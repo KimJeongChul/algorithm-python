{
 "cells": [
  {
   "cell_type": "markdown",
   "metadata": {},
   "source": [
    "# stack"
   ]
  },
  {
   "cell_type": "markdown",
   "metadata": {},
   "source": [
    "### stack class 구현\n",
    "python의 list 자체에 stack의 push(append)와 pop은 구현되어 있습니다."
   ]
  },
  {
   "cell_type": "code",
   "execution_count": 1,
   "metadata": {
    "collapsed": true
   },
   "outputs": [],
   "source": [
    "class Stack(list):\n",
    "    push = list.append # push\n",
    "    pop = list.pop # pop\n",
    "    \n",
    "    def is_empty(self):\n",
    "        if not self:\n",
    "            return True\n",
    "        else:\n",
    "            return False"
   ]
  },
  {
   "cell_type": "code",
   "execution_count": 2,
   "metadata": {},
   "outputs": [
    {
     "name": "stdout",
     "output_type": "stream",
     "text": [
      "stack [1]\n",
      "stack [1, 2]\n",
      "stack [1, 2, 3]\n",
      "stack [1, 2]\n"
     ]
    }
   ],
   "source": [
    "stack = Stack()\n",
    "stack.push(1)\n",
    "print(\"stack\", stack)\n",
    "stack.push(2)\n",
    "print(\"stack\", stack)\n",
    "stack.push(3)\n",
    "print(\"stack\", stack)\n",
    "stack.pop()\n",
    "print(\"stack\", stack)"
   ]
  },
  {
   "cell_type": "markdown",
   "metadata": {},
   "source": [
    "### stack class를 직접 list 사용없이 구현"
   ]
  },
  {
   "cell_type": "code",
   "execution_count": 3,
   "metadata": {
    "collapsed": true
   },
   "outputs": [],
   "source": [
    "class Node:\n",
    "    def __init__(self, data):\n",
    "        self.data = data\n",
    "        self.next = None # 자신과 연결된 다음 Node를 가르킴"
   ]
  },
  {
   "cell_type": "code",
   "execution_count": 4,
   "metadata": {},
   "outputs": [],
   "source": [
    "class Stack:\n",
    "    def __init__(self):\n",
    "        self.head = None\n",
    "    \n",
    "    def is_empty(self):\n",
    "        if not self.head:\n",
    "            return True\n",
    "        else:\n",
    "            return False\n",
    "    \n",
    "    def push(self, data):\n",
    "        node = Node(data)\n",
    "        node.next = self.   head # head는 나중에 들어온 node가 된다.\n",
    "        self.head = node\n",
    "    \n",
    "    def pop(self):\n",
    "        if self.is_empty():\n",
    "            return None\n",
    "        result = self.head.data # 현재 head의 data를 반환\n",
    "        self.head = self.head.next # head를 바꿔줍니다.\n",
    "        return result\n",
    "    \n",
    "    def element(self):\n",
    "        top = self.head\n",
    "        head = self.head\n",
    "        result = [head.data]\n",
    "        while head.next != None:\n",
    "            head = head.next\n",
    "            result.append(head.data)\n",
    "        self.head = top\n",
    "        return result[::-1]\n",
    "        "
   ]
  },
  {
   "cell_type": "code",
   "execution_count": 5,
   "metadata": {},
   "outputs": [
    {
     "name": "stdout",
     "output_type": "stream",
     "text": [
      "stack [1]\n",
      "stack [1, 2]\n",
      "stack [1, 2, 3]\n",
      "stack [1, 2]\n"
     ]
    }
   ],
   "source": [
    "stack = Stack()\n",
    "stack.push(1)\n",
    "print(\"stack\", stack.element())\n",
    "stack.push(2)\n",
    "print(\"stack\", stack.element())\n",
    "stack.push(3)\n",
    "print(\"stack\", stack.element())\n",
    "stack.pop()\n",
    "print(\"stack\", stack.element())"
   ]
  },
  {
   "cell_type": "markdown",
   "metadata": {},
   "source": [
    "# palindrome\n",
    "스택을 활용한 문제를 쉽게 예로 들면 괄호 (), {}, [] 앞 뒤로 짝을 맞추는 문제\n",
    "한 번 열린 괄호는 반대편에서 순서대로 닫혀야 합니다. "
   ]
  },
  {
   "cell_type": "code",
   "execution_count": 6,
   "metadata": {},
   "outputs": [],
   "source": [
    "def solution(test):\n",
    "    result = True\n",
    "    stack = []\n",
    "    if len(test) == 0:\n",
    "        result = False\n",
    "    else:\n",
    "        for t in test:\n",
    "            open_ = '{[('\n",
    "            close_ = '}])'\n",
    "            if t in open_:\n",
    "                stack.append(t) # push\n",
    "            else:\n",
    "                if open_.find(stack.pop()) != close_.find(t): # pop\n",
    "                    result = False\n",
    "                else:\n",
    "                    continue\n",
    "    print(result)"
   ]
  },
  {
   "cell_type": "code",
   "execution_count": 7,
   "metadata": {},
   "outputs": [
    {
     "name": "stdout",
     "output_type": "stream",
     "text": [
      "False\n"
     ]
    }
   ],
   "source": [
    "test = ''\n",
    "solution(test)"
   ]
  },
  {
   "cell_type": "code",
   "execution_count": 8,
   "metadata": {},
   "outputs": [
    {
     "name": "stdout",
     "output_type": "stream",
     "text": [
      "True\n"
     ]
    }
   ],
   "source": [
    "test = '()()'\n",
    "solution(test)"
   ]
  },
  {
   "cell_type": "code",
   "execution_count": 9,
   "metadata": {},
   "outputs": [
    {
     "name": "stdout",
     "output_type": "stream",
     "text": [
      "True\n"
     ]
    }
   ],
   "source": [
    "test = '{{{{}}}{{}}}{}'\n",
    "solution(test)"
   ]
  },
  {
   "cell_type": "code",
   "execution_count": 10,
   "metadata": {},
   "outputs": [
    {
     "name": "stdout",
     "output_type": "stream",
     "text": [
      "False\n"
     ]
    }
   ],
   "source": [
    "test = '({[}])'\n",
    "solution(test)"
   ]
  },
  {
   "cell_type": "code",
   "execution_count": 11,
   "metadata": {},
   "outputs": [
    {
     "name": "stdout",
     "output_type": "stream",
     "text": [
      "True\n"
     ]
    }
   ],
   "source": [
    "test = '({}[(){}])'\n",
    "solution(test)"
   ]
  }
 ],
 "metadata": {
  "kernelspec": {
   "display_name": "Python 3",
   "language": "python",
   "name": "python3"
  },
  "language_info": {
   "codemirror_mode": {
    "name": "ipython",
    "version": 3
   },
   "file_extension": ".py",
   "mimetype": "text/x-python",
   "name": "python",
   "nbconvert_exporter": "python",
   "pygments_lexer": "ipython3",
   "version": "3.5.2"
  }
 },
 "nbformat": 4,
 "nbformat_minor": 2
}
